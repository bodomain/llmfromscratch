{
 "cells": [
  {
   "cell_type": "code",
   "execution_count": 1,
   "id": "8b7e56d4",
   "metadata": {},
   "outputs": [
    {
     "data": {
      "text/plain": [
       "False"
      ]
     },
     "execution_count": 1,
     "metadata": {},
     "output_type": "execute_result"
    }
   ],
   "source": [
    "import torch\n",
    "torch.__version__\n",
    "torch.cuda.is_available()\n",
    "\n"
   ]
  },
  {
   "cell_type": "code",
   "execution_count": null,
   "id": "7fa6e98b",
   "metadata": {},
   "outputs": [
    {
     "name": "stdout",
     "output_type": "stream",
     "text": [
      "tensor(7)\n",
      "torch.Size([2, 2, 2])\n",
      "torch.Size([2, 2])\n"
     ]
    },
    {
     "data": {
      "text/plain": [
       "tensor([[ 7, 10],\n",
       "        [15, 22]])"
      ]
     },
     "execution_count": 31,
     "metadata": {},
     "output_type": "execute_result"
    }
   ],
   "source": [
    "tensor0d = torch.tensor(1)\n",
    "tensor1d = torch.tensor([1,2,3,4])\n",
    "tensor2d = torch.tensor([[1,2],[3,4]])\n",
    "tensor3d = torch.tensor([\n",
    "                        [[1, 2],[3, 4]],\n",
    "                        [[5, 6], [7, 8]]\n",
    "                        ])\n",
    "print(tensor3d[1][1] [0])\n",
    "print(tensor3d.shape)\n",
    "\n",
    "tensor1dre = (tensor1d.reshape(4,1))\n",
    "\n",
    "print(tensor2d.shape)\n",
    "tensor2d @ tensor2d\n"
   ]
  },
  {
   "cell_type": "code",
   "execution_count": 17,
   "id": "447fe72a",
   "metadata": {},
   "outputs": [
    {
     "name": "stdout",
     "output_type": "stream",
     "text": [
      "tensor([-0.0044])\n",
      "tensor([-0.0040])\n"
     ]
    }
   ],
   "source": [
    "import torch.nn.functional as F\n",
    "from torch.autograd import grad\n",
    "\n",
    "y = torch.tensor([1.0])\n",
    "x1 = torch.tensor([1.1])\n",
    "w1 = torch.tensor([3.2], requires_grad=True)\n",
    "b = torch.tensor([2.0], requires_grad= True)\n",
    "\n",
    "z = x1 * w1 + b\n",
    "a = torch.sigmoid(z)\n",
    "\n",
    "loss = F.binary_cross_entropy(a,y)\n",
    "\n",
    "# grad_L_w1 = grad(loss, w1, retain_graph=True)\n",
    "# grad_L_b = grad(loss, b, retain_graph=True)\n",
    "# print(loss)\n",
    "# print(grad_L_w1)\n",
    "# print(grad_L_b)\n",
    "\n",
    "loss.backward()\n",
    "print(w1.grad)\n",
    "print(b.grad)\n",
    "\n",
    "\n"
   ]
  },
  {
   "cell_type": "code",
   "execution_count": null,
   "id": "75203a81",
   "metadata": {},
   "outputs": [],
   "source": [
    "class NeuralNetwork(torch.nn.Module):\n",
    "    def __init__(self, num_inputs, num_outputs):\n",
    "        super().__init__()\n",
    "        \n",
    "        self.layers = torch.nn.Sequential(\n",
    "            # 1st hidden layer\n",
    "            torch.nn.Linear(num_inputs, 30), torch.nn.ReLU(),\n",
    "\n",
    "            # 2nd hidden layer\n",
    "            torch.nn.Linear(30, 20), torch.nn.ReLU(),\n",
    "\n",
    "            # output layer\n",
    "            torch.nn.Linear(20, num_outputs),\n",
    "        )\n",
    "\n",
    "    def forward(self, x):\n",
    "        logits = self.layers(x)\n",
    "        return logits\n",
    "\n",
    "        \n"
   ]
  },
  {
   "cell_type": "code",
   "execution_count": 46,
   "id": "77df1400",
   "metadata": {},
   "outputs": [
    {
     "name": "stdout",
     "output_type": "stream",
     "text": [
      "NeuralNetwork(\n",
      "  (layers): Sequential(\n",
      "    (0): Linear(in_features=50, out_features=30, bias=True)\n",
      "    (1): ReLU()\n",
      "    (2): Linear(in_features=30, out_features=20, bias=True)\n",
      "    (3): ReLU()\n",
      "    (4): Linear(in_features=20, out_features=3, bias=True)\n",
      "  )\n",
      ")\n",
      "Total number of trainable model parameters:  2213\n"
     ]
    }
   ],
   "source": [
    "model = NeuralNetwork(50, 3)\n",
    "print(model)\n",
    "num_params = sum(p.numel() for p in model.parameters() if p.requires_grad)\n",
    "print(\"Total number of trainable model parameters: \", num_params)"
   ]
  },
  {
   "cell_type": "code",
   "execution_count": 48,
   "id": "8a225d9c",
   "metadata": {},
   "outputs": [
    {
     "name": "stdout",
     "output_type": "stream",
     "text": [
      "Parameter containing:\n",
      "tensor([[-0.0487,  0.1108,  0.0850,  ..., -0.0224,  0.1168, -0.0777],\n",
      "        [ 0.0284, -0.0451, -0.0476,  ..., -0.1018, -0.0754, -0.0250],\n",
      "        [-0.0073, -0.0393, -0.0651,  ...,  0.0613,  0.0995, -0.0556],\n",
      "        ...,\n",
      "        [ 0.0039,  0.0834, -0.0209,  ...,  0.0370,  0.0725, -0.1128],\n",
      "        [ 0.0168, -0.0579, -0.0317,  ..., -0.1054,  0.0309,  0.0602],\n",
      "        [-0.1262, -0.0735,  0.0196,  ..., -0.0298, -0.1090, -0.0806]],\n",
      "       requires_grad=True)\n",
      "torch.Size([30, 50])\n",
      "torch.Size([30])\n"
     ]
    }
   ],
   "source": [
    "print(model.layers[0].weight)\n",
    "print(model.layers[0].weight.shape)\n",
    "print(model.layers[0].bias.shape)\n",
    "\n"
   ]
  },
  {
   "cell_type": "code",
   "execution_count": null,
   "id": "593ac866",
   "metadata": {},
   "outputs": [
    {
     "name": "stdout",
     "output_type": "stream",
     "text": [
      "Parameter containing:\n",
      "tensor([[-0.0577,  0.0047, -0.0702,  ...,  0.0222,  0.1260,  0.0865],\n",
      "        [ 0.0502,  0.0307,  0.0333,  ...,  0.0951,  0.1134, -0.0297],\n",
      "        [ 0.1077, -0.1108,  0.0122,  ...,  0.0108, -0.1049, -0.1063],\n",
      "        ...,\n",
      "        [-0.0787,  0.1259,  0.0803,  ...,  0.1218,  0.1303, -0.1351],\n",
      "        [ 0.1359,  0.0175, -0.0673,  ...,  0.0674,  0.0676,  0.1058],\n",
      "        [ 0.0790,  0.1343, -0.0293,  ...,  0.0344, -0.0971, -0.0509]],\n",
      "       requires_grad=True)\n"
     ]
    }
   ],
   "source": [
    "torch.manual_seed(123)\n",
    "model = NeuralNetwork(50,3)\n",
    "print(model.layers[0].weight)\n"
   ]
  },
  {
   "cell_type": "code",
   "execution_count": 90,
   "id": "1da04ecc",
   "metadata": {},
   "outputs": [
    {
     "name": "stdout",
     "output_type": "stream",
     "text": [
      "tensor([[-0.1139,  0.1325, -0.0884]], grad_fn=<AddmmBackward0>)\n"
     ]
    }
   ],
   "source": [
    "X = torch.rand((1,50))\n",
    "out = model(X)\n",
    "print(out)"
   ]
  },
  {
   "cell_type": "code",
   "execution_count": 92,
   "id": "02ff858a",
   "metadata": {},
   "outputs": [
    {
     "name": "stdout",
     "output_type": "stream",
     "text": [
      "tensor([[-0.1139,  0.1325, -0.0884]])\n"
     ]
    }
   ],
   "source": [
    "with torch.no_grad():\n",
    "    out = model(X)\n",
    "print(out)"
   ]
  },
  {
   "cell_type": "code",
   "execution_count": 93,
   "id": "7ae8ce21",
   "metadata": {},
   "outputs": [
    {
     "name": "stdout",
     "output_type": "stream",
     "text": [
      "tensor([[0.3026, 0.3871, 0.3104]])\n"
     ]
    }
   ],
   "source": [
    "with torch.no_grad():\n",
    "    out = torch.softmax(model(X), dim=1)\n",
    "print(out)"
   ]
  },
  {
   "cell_type": "code",
   "execution_count": 96,
   "id": "735ed9d7",
   "metadata": {},
   "outputs": [],
   "source": [
    "X_train = torch.tensor([\n",
    "         [-1.2, 3.1],\n",
    "         [-0.9, 2.9],\n",
    "         [-0.5, 2.6],\n",
    "         [2.3, -1.1],\n",
    "         [2.7, -1.5]\n",
    "    ])\n",
    "\n",
    "y_train = torch.tensor([0, 0, 0, 1, 1,])\n",
    "\n",
    "X_test = torch.tensor([\n",
    "        [-0.8, 2.8],\n",
    "        [2.6, -1.6],\n",
    "])\n",
    "\n",
    "y_test = torch.tensor([0, 1])"
   ]
  },
  {
   "cell_type": "code",
   "execution_count": 97,
   "id": "35f6af4d",
   "metadata": {},
   "outputs": [],
   "source": [
    "# Defining a custom Dataset class\n",
    "from torch.utils.data import Dataset\n",
    "\n",
    "class ToyDataset(Dataset):\n",
    "    def __init__(self, X, y):\n",
    "        self.features = X\n",
    "        self.labels = y\n",
    "    \n",
    "    def __getitem__(self, index):\n",
    "        one_x = self.features[index]\n",
    "        one_y = self.labels[index]\n",
    "        return one_x, one_y\n",
    "\n",
    "    def __len__(self):\n",
    "        return self.labels.shape[0]\n",
    "\n",
    "train_ds = ToyDataset(X_train, y_train)\n",
    "test_ds = ToyDataset(X_test, y_test)\n"
   ]
  },
  {
   "cell_type": "code",
   "execution_count": null,
   "id": "4b0c069d",
   "metadata": {},
   "outputs": [],
   "source": [
    "from torch.utils.data import DataLoader\n",
    "\n",
    "torch.manual_seed(123)\n",
    "\n",
    "train_loader = DataLoader(\n",
    "    dataset=train_ds,\n",
    "    batch_size=2,\n",
    "    shuffle=True,\n",
    "    num_workers=0,\n",
    "    drop_last=True\n",
    ")\n",
    "\n",
    "test_loader = DataLoader(\n",
    "    dataset=test_ds,\n",
    "    batch_size=2,\n",
    "    shuffle=False,\n",
    "    num_workers=0,\n",
    "    drop_last=True\n",
    ")"
   ]
  },
  {
   "cell_type": "code",
   "execution_count": null,
   "id": "36d550af",
   "metadata": {},
   "outputs": [
    {
     "name": "stdout",
     "output_type": "stream",
     "text": [
      "Batch 1:  tensor([[-1.2000,  3.1000],\n",
      "        [-0.5000,  2.6000]]) tensor([0, 0])\n",
      "Batch 2:  tensor([[-0.9000,  2.9000],\n",
      "        [ 2.7000, -1.5000]]) tensor([0, 1])\n",
      "Batch 3:  tensor([[ 2.3000, -1.1000]]) tensor([1])\n",
      "tensor([[ 2.3000, -1.1000]]) tensor([1])\n"
     ]
    }
   ],
   "source": [
    "# Iterate over the Dataloaders\n",
    "for idx, (x, y) in enumerate(train_loader):\n",
    "    print( f'Batch {idx+1}: ', x, y)\n"
   ]
  },
  {
   "cell_type": "code",
   "execution_count": 120,
   "id": "4c36c532",
   "metadata": {},
   "outputs": [
    {
     "name": "stdout",
     "output_type": "stream",
     "text": [
      "Epoch: 001/003 | Batch 000/003 | Train Loss: 0.75\n",
      "Epoch: 001/003 | Batch 001/003 | Train Loss: 0.65\n",
      "Epoch: 001/003 | Batch 002/003 | Train Loss: 0.42\n",
      "Epoch: 002/003 | Batch 000/003 | Train Loss: 0.05\n",
      "Epoch: 002/003 | Batch 001/003 | Train Loss: 0.13\n",
      "Epoch: 002/003 | Batch 002/003 | Train Loss: 0.00\n",
      "Epoch: 003/003 | Batch 000/003 | Train Loss: 0.01\n",
      "Epoch: 003/003 | Batch 001/003 | Train Loss: 0.00\n",
      "Epoch: 003/003 | Batch 002/003 | Train Loss: 0.02\n"
     ]
    }
   ],
   "source": [
    "# Neural Network Training in PyTorch\n",
    "import torch.nn.functional as F\n",
    "\n",
    "torch.manual_seed(123)\n",
    "model = NeuralNetwork(num_inputs=2, num_outputs=2)\n",
    "optimizer = torch.optim.SGD(\n",
    "    model.parameters(), lr=0.5\n",
    ")\n",
    "\n",
    "num_epochs = 3\n",
    "for epoch in range(num_epochs):\n",
    "    model.train()\n",
    "    for batch_idx, (features, labels) in enumerate(train_loader):\n",
    "        logits = model(features)\n",
    "\n",
    "        loss = F.cross_entropy(logits, labels)\n",
    "\n",
    "        optimizer.zero_grad()\n",
    "        loss.backward()\n",
    "        optimizer.step()\n",
    "\n",
    "        ### LOGGING\n",
    "        print(f'Epoch: {epoch+1:03d}/{num_epochs:03d}'\n",
    "        f' | Batch {batch_idx:03d}/{len(train_loader):03d}'\n",
    "        f' | Train Loss: {loss:.2f}')\n",
    "    model.eval()"
   ]
  },
  {
   "cell_type": "code",
   "execution_count": 121,
   "id": "b4ada1b2",
   "metadata": {},
   "outputs": [
    {
     "name": "stdout",
     "output_type": "stream",
     "text": [
      "tensor([[ 2.9320, -4.2563],\n",
      "        [ 2.6045, -3.8389],\n",
      "        [ 2.1484, -3.2514],\n",
      "        [-2.1461,  2.1496],\n",
      "        [-2.5004,  2.5210]])\n"
     ]
    }
   ],
   "source": [
    "model.eval()\n",
    "with torch.no_grad():\n",
    "    outputs = model(X_train)\n",
    "print(outputs)"
   ]
  },
  {
   "cell_type": "code",
   "execution_count": 122,
   "id": "4b1050e9",
   "metadata": {},
   "outputs": [
    {
     "name": "stdout",
     "output_type": "stream",
     "text": [
      "tensor([[    0.9992,     0.0008],\n",
      "        [    0.9984,     0.0016],\n",
      "        [    0.9955,     0.0045],\n",
      "        [    0.0134,     0.9866],\n",
      "        [    0.0066,     0.9934]])\n"
     ]
    }
   ],
   "source": [
    "# Softmaxing the stuff\n",
    "torch.set_printoptions(sci_mode=False)\n",
    "probas = torch.softmax(outputs, dim=1)\n",
    "print(probas)"
   ]
  },
  {
   "cell_type": "code",
   "execution_count": 124,
   "id": "a689de31",
   "metadata": {},
   "outputs": [
    {
     "name": "stdout",
     "output_type": "stream",
     "text": [
      "tensor([0, 0, 0, 1, 1])\n"
     ]
    }
   ],
   "source": [
    "# Convert probabilities in into class label predicitions \n",
    "\n",
    "predictions = torch.argmax(probas, dim=1)\n",
    "print(predictions)"
   ]
  },
  {
   "cell_type": "code",
   "execution_count": null,
   "id": "30cf8696",
   "metadata": {},
   "outputs": [
    {
     "data": {
      "text/plain": [
       "tensor(5)"
      ]
     },
     "execution_count": 129,
     "metadata": {},
     "output_type": "execute_result"
    }
   ],
   "source": [
    "predictions == y_train\n",
    "torch.sum(predictions==y_train)"
   ]
  },
  {
   "cell_type": "code",
   "execution_count": 138,
   "id": "605fc67b",
   "metadata": {},
   "outputs": [],
   "source": [
    "# A functionj to compute the prediction accuracy\n",
    "\n",
    "def compute_accuracy(model, dataloader):\n",
    "    model = model.eval()\n",
    "    correct = 0.0\n",
    "    total_examples = 0\n",
    "\n",
    "    for idx, (features, labels) in enumerate(dataloader):\n",
    "        with torch.no_grad():\n",
    "            logits = model(features)\n",
    "\n",
    "        predictions = torch.argmax(logits, dim=1)\n",
    "        compare = labels == predictions\n",
    "        correct += torch.sum(compare)\n",
    "        total_examples += len(compare)\n",
    "    \n",
    "    return (correct /total_examples).item()"
   ]
  },
  {
   "cell_type": "code",
   "execution_count": 140,
   "id": "449417f9",
   "metadata": {},
   "outputs": [
    {
     "name": "stdout",
     "output_type": "stream",
     "text": [
      "1.0\n"
     ]
    }
   ],
   "source": [
    "print(compute_accuracy(model, train_loader))\n"
   ]
  },
  {
   "cell_type": "code",
   "execution_count": null,
   "id": "41acdc81",
   "metadata": {},
   "outputs": [],
   "source": [
    "# Save and load models for later\n",
    "torch.save(model.state_dict(), \"model.pth\")"
   ]
  },
  {
   "cell_type": "code",
   "execution_count": null,
   "id": "64f0cb73",
   "metadata": {},
   "outputs": [],
   "source": []
  }
 ],
 "metadata": {
  "kernelspec": {
   "display_name": "venv",
   "language": "python",
   "name": "python3"
  },
  "language_info": {
   "codemirror_mode": {
    "name": "ipython",
    "version": 3
   },
   "file_extension": ".py",
   "mimetype": "text/x-python",
   "name": "python",
   "nbconvert_exporter": "python",
   "pygments_lexer": "ipython3",
   "version": "3.11.9"
  }
 },
 "nbformat": 4,
 "nbformat_minor": 5
}
